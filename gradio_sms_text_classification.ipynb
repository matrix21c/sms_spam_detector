{
 "cells": [
  {
   "cell_type": "code",
   "execution_count": 1,
   "metadata": {},
   "outputs": [
    {
     "name": "stdout",
     "output_type": "stream",
     "text": [
      "Requirement already satisfied: gradio in c:\\users\\alanz\\anaconda9\\lib\\site-packages (4.28.3)\n",
      "Requirement already satisfied: aiofiles<24.0,>=22.0 in c:\\users\\alanz\\anaconda9\\lib\\site-packages (from gradio) (22.1.0)\n",
      "Requirement already satisfied: altair<6.0,>=4.2.0 in c:\\users\\alanz\\anaconda9\\lib\\site-packages (from gradio) (5.3.0)\n",
      "Requirement already satisfied: fastapi in c:\\users\\alanz\\anaconda9\\lib\\site-packages (from gradio) (0.110.3)\n",
      "Requirement already satisfied: ffmpy in c:\\users\\alanz\\anaconda9\\lib\\site-packages (from gradio) (0.3.2)\n",
      "Requirement already satisfied: gradio-client==0.16.0 in c:\\users\\alanz\\anaconda9\\lib\\site-packages (from gradio) (0.16.0)\n",
      "Requirement already satisfied: httpx>=0.24.1 in c:\\users\\alanz\\anaconda9\\lib\\site-packages (from gradio) (0.27.0)\n",
      "Requirement already satisfied: huggingface-hub>=0.19.3 in c:\\users\\alanz\\anaconda9\\lib\\site-packages (from gradio) (0.23.0)\n",
      "Requirement already satisfied: importlib-resources<7.0,>=1.3 in c:\\users\\alanz\\anaconda9\\lib\\site-packages (from gradio) (6.4.0)\n",
      "Requirement already satisfied: jinja2<4.0 in c:\\users\\alanz\\anaconda9\\lib\\site-packages (from gradio) (3.1.2)\n",
      "Requirement already satisfied: markupsafe~=2.0 in c:\\users\\alanz\\anaconda9\\lib\\site-packages (from gradio) (2.1.1)\n",
      "Requirement already satisfied: matplotlib~=3.0 in c:\\users\\alanz\\anaconda9\\lib\\site-packages (from gradio) (3.7.2)\n",
      "Requirement already satisfied: numpy~=1.0 in c:\\users\\alanz\\anaconda9\\lib\\site-packages (from gradio) (1.24.3)\n",
      "Requirement already satisfied: orjson~=3.0 in c:\\users\\alanz\\anaconda9\\lib\\site-packages (from gradio) (3.10.2)\n",
      "Requirement already satisfied: packaging in c:\\users\\alanz\\anaconda9\\lib\\site-packages (from gradio) (23.2)\n",
      "Requirement already satisfied: pandas<3.0,>=1.0 in c:\\users\\alanz\\anaconda9\\lib\\site-packages (from gradio) (2.0.3)\n",
      "Requirement already satisfied: pillow<11.0,>=8.0 in c:\\users\\alanz\\anaconda9\\lib\\site-packages (from gradio) (9.4.0)\n",
      "Requirement already satisfied: pydantic>=2.0 in c:\\users\\alanz\\anaconda9\\lib\\site-packages (from gradio) (2.7.1)\n",
      "Requirement already satisfied: pydub in c:\\users\\alanz\\anaconda9\\lib\\site-packages (from gradio) (0.25.1)\n",
      "Requirement already satisfied: python-multipart>=0.0.9 in c:\\users\\alanz\\anaconda9\\lib\\site-packages (from gradio) (0.0.9)\n",
      "Requirement already satisfied: pyyaml<7.0,>=5.0 in c:\\users\\alanz\\anaconda9\\lib\\site-packages (from gradio) (6.0)\n",
      "Requirement already satisfied: ruff>=0.2.2 in c:\\users\\alanz\\anaconda9\\lib\\site-packages (from gradio) (0.4.2)\n",
      "Requirement already satisfied: semantic-version~=2.0 in c:\\users\\alanz\\anaconda9\\lib\\site-packages (from gradio) (2.10.0)\n",
      "Requirement already satisfied: tomlkit==0.12.0 in c:\\users\\alanz\\anaconda9\\lib\\site-packages (from gradio) (0.12.0)\n",
      "Requirement already satisfied: typer<1.0,>=0.12 in c:\\users\\alanz\\anaconda9\\lib\\site-packages (from gradio) (0.12.3)\n",
      "Requirement already satisfied: typing-extensions~=4.0 in c:\\users\\alanz\\anaconda9\\lib\\site-packages (from gradio) (4.11.0)\n",
      "Requirement already satisfied: urllib3~=2.0 in c:\\users\\alanz\\anaconda9\\lib\\site-packages (from gradio) (2.2.1)\n",
      "Requirement already satisfied: uvicorn>=0.14.0 in c:\\users\\alanz\\anaconda9\\lib\\site-packages (from gradio) (0.29.0)\n",
      "Requirement already satisfied: fsspec in c:\\users\\alanz\\anaconda9\\lib\\site-packages (from gradio-client==0.16.0->gradio) (2024.3.1)\n",
      "Requirement already satisfied: websockets<12.0,>=10.0 in c:\\users\\alanz\\anaconda9\\lib\\site-packages (from gradio-client==0.16.0->gradio) (11.0.3)\n",
      "Requirement already satisfied: jsonschema>=3.0 in c:\\users\\alanz\\anaconda9\\lib\\site-packages (from altair<6.0,>=4.2.0->gradio) (4.17.3)\n",
      "Requirement already satisfied: toolz in c:\\users\\alanz\\anaconda9\\lib\\site-packages (from altair<6.0,>=4.2.0->gradio) (0.12.0)\n",
      "Requirement already satisfied: anyio in c:\\users\\alanz\\anaconda9\\lib\\site-packages (from httpx>=0.24.1->gradio) (3.5.0)\n",
      "Requirement already satisfied: certifi in c:\\users\\alanz\\anaconda9\\lib\\site-packages (from httpx>=0.24.1->gradio) (2023.11.17)\n",
      "Requirement already satisfied: httpcore==1.* in c:\\users\\alanz\\anaconda9\\lib\\site-packages (from httpx>=0.24.1->gradio) (1.0.5)\n",
      "Requirement already satisfied: idna in c:\\users\\alanz\\anaconda9\\lib\\site-packages (from httpx>=0.24.1->gradio) (3.4)\n",
      "Requirement already satisfied: sniffio in c:\\users\\alanz\\anaconda9\\lib\\site-packages (from httpx>=0.24.1->gradio) (1.2.0)\n",
      "Requirement already satisfied: h11<0.15,>=0.13 in c:\\users\\alanz\\anaconda9\\lib\\site-packages (from httpcore==1.*->httpx>=0.24.1->gradio) (0.14.0)\n",
      "Requirement already satisfied: filelock in c:\\users\\alanz\\anaconda9\\lib\\site-packages (from huggingface-hub>=0.19.3->gradio) (3.9.0)\n",
      "Requirement already satisfied: requests in c:\\users\\alanz\\anaconda9\\lib\\site-packages (from huggingface-hub>=0.19.3->gradio) (2.31.0)\n",
      "Requirement already satisfied: tqdm>=4.42.1 in c:\\users\\alanz\\anaconda9\\lib\\site-packages (from huggingface-hub>=0.19.3->gradio) (4.65.0)\n",
      "Requirement already satisfied: contourpy>=1.0.1 in c:\\users\\alanz\\anaconda9\\lib\\site-packages (from matplotlib~=3.0->gradio) (1.0.5)\n",
      "Requirement already satisfied: cycler>=0.10 in c:\\users\\alanz\\anaconda9\\lib\\site-packages (from matplotlib~=3.0->gradio) (0.11.0)\n",
      "Requirement already satisfied: fonttools>=4.22.0 in c:\\users\\alanz\\anaconda9\\lib\\site-packages (from matplotlib~=3.0->gradio) (4.25.0)\n",
      "Requirement already satisfied: kiwisolver>=1.0.1 in c:\\users\\alanz\\anaconda9\\lib\\site-packages (from matplotlib~=3.0->gradio) (1.4.4)\n",
      "Requirement already satisfied: pyparsing<3.1,>=2.3.1 in c:\\users\\alanz\\anaconda9\\lib\\site-packages (from matplotlib~=3.0->gradio) (3.0.9)\n",
      "Requirement already satisfied: python-dateutil>=2.7 in c:\\users\\alanz\\anaconda9\\lib\\site-packages (from matplotlib~=3.0->gradio) (2.8.2)\n",
      "Requirement already satisfied: pytz>=2020.1 in c:\\users\\alanz\\anaconda9\\lib\\site-packages (from pandas<3.0,>=1.0->gradio) (2023.3.post1)\n",
      "Requirement already satisfied: tzdata>=2022.1 in c:\\users\\alanz\\anaconda9\\lib\\site-packages (from pandas<3.0,>=1.0->gradio) (2023.3)\n",
      "Requirement already satisfied: annotated-types>=0.4.0 in c:\\users\\alanz\\anaconda9\\lib\\site-packages (from pydantic>=2.0->gradio) (0.6.0)\n",
      "Requirement already satisfied: pydantic-core==2.18.2 in c:\\users\\alanz\\anaconda9\\lib\\site-packages (from pydantic>=2.0->gradio) (2.18.2)\n",
      "Requirement already satisfied: click>=8.0.0 in c:\\users\\alanz\\anaconda9\\lib\\site-packages (from typer<1.0,>=0.12->gradio) (8.0.4)\n",
      "Requirement already satisfied: shellingham>=1.3.0 in c:\\users\\alanz\\anaconda9\\lib\\site-packages (from typer<1.0,>=0.12->gradio) (1.5.4)\n",
      "Requirement already satisfied: rich>=10.11.0 in c:\\users\\alanz\\anaconda9\\lib\\site-packages (from typer<1.0,>=0.12->gradio) (13.7.1)\n",
      "Requirement already satisfied: starlette<0.38.0,>=0.37.2 in c:\\users\\alanz\\anaconda9\\lib\\site-packages (from fastapi->gradio) (0.37.2)\n",
      "Requirement already satisfied: colorama in c:\\users\\alanz\\anaconda9\\lib\\site-packages (from click>=8.0.0->typer<1.0,>=0.12->gradio) (0.4.6)\n",
      "Requirement already satisfied: attrs>=17.4.0 in c:\\users\\alanz\\anaconda9\\lib\\site-packages (from jsonschema>=3.0->altair<6.0,>=4.2.0->gradio) (22.1.0)\n",
      "Requirement already satisfied: pyrsistent!=0.17.0,!=0.17.1,!=0.17.2,>=0.14.0 in c:\\users\\alanz\\anaconda9\\lib\\site-packages (from jsonschema>=3.0->altair<6.0,>=4.2.0->gradio) (0.18.0)\n",
      "Requirement already satisfied: six>=1.5 in c:\\users\\alanz\\anaconda9\\lib\\site-packages (from python-dateutil>=2.7->matplotlib~=3.0->gradio) (1.16.0)\n",
      "Requirement already satisfied: markdown-it-py>=2.2.0 in c:\\users\\alanz\\anaconda9\\lib\\site-packages (from rich>=10.11.0->typer<1.0,>=0.12->gradio) (2.2.0)\n",
      "Requirement already satisfied: pygments<3.0.0,>=2.13.0 in c:\\users\\alanz\\anaconda9\\lib\\site-packages (from rich>=10.11.0->typer<1.0,>=0.12->gradio) (2.15.1)\n",
      "Requirement already satisfied: charset-normalizer<4,>=2 in c:\\users\\alanz\\anaconda9\\lib\\site-packages (from requests->huggingface-hub>=0.19.3->gradio) (2.0.4)\n",
      "Requirement already satisfied: mdurl~=0.1 in c:\\users\\alanz\\anaconda9\\lib\\site-packages (from markdown-it-py>=2.2.0->rich>=10.11.0->typer<1.0,>=0.12->gradio) (0.1.0)\n"
     ]
    }
   ],
   "source": [
    "!pip install gradio"
   ]
  },
  {
   "cell_type": "code",
   "execution_count": 2,
   "metadata": {},
   "outputs": [
    {
     "name": "stdout",
     "output_type": "stream",
     "text": [
      "First few rows of the dataset:\n",
      "  label  \\\n",
      "0   ham   \n",
      "1   ham   \n",
      "2  spam   \n",
      "3   ham   \n",
      "4   ham   \n",
      "\n",
      "                                                                                                                                                  text_message  \n",
      "0                                              Go until jurong point, crazy.. Available only in bugis n great world la e buffet... Cine there got amore wat...  \n",
      "1                                                                                                                                Ok lar... Joking wif u oni...  \n",
      "2  Free entry in 2 a wkly comp to win FA Cup final tkts 21st May 2005. Text FA to 87121 to receive entry question(std txt rate)T&C's apply 08452810075over18's  \n",
      "3                                                                                                            U dun say so early hor... U c already then say...  \n",
      "4                                                                                                Nah I don't think he goes to usf, he lives around here though  \n",
      "\n",
      "Class distribution:\n",
      "label\n",
      "ham     4825\n",
      "spam     747\n",
      "Name: count, dtype: int64\n"
     ]
    }
   ],
   "source": [
    "import pandas as pd\n",
    "from sklearn.model_selection import train_test_split\n",
    "from sklearn.pipeline import Pipeline\n",
    "from sklearn.feature_extraction.text import TfidfVectorizer\n",
    "from sklearn.svm import LinearSVC\n",
    "import gradio as gr\n",
    "\n",
    "# Set the column width to view the text message data\n",
    "pd.set_option('max_colwidth', 200)\n",
    "\n",
    "# Load the dataset into a DataFrame\n",
    "csv_file_path = \"Resources/SMSSpamCollection.csv\"\n",
    "sms_text_df = pd.read_csv(csv_file_path)\n",
    "\n",
    "# Drop rows with missing values in the 'text_message' column\n",
    "sms_text_df = sms_text_df.dropna(subset=['text_message'])\n",
    "\n",
    "# Verify the first few rows and the class distribution\n",
    "print(\"First few rows of the dataset:\")\n",
    "print(sms_text_df.head())\n",
    "\n",
    "print(\"\\nClass distribution:\")\n",
    "print(sms_text_df['label'].value_counts())"
   ]
  },
  {
   "cell_type": "code",
   "execution_count": 3,
   "metadata": {},
   "outputs": [],
   "source": [
    "def sms_classification(sms_text_df):\n",
    "    \"\"\"\n",
    "    Perform SMS classification using a pipeline with TF-IDF vectorization and Linear Support Vector Classification.\n",
    "\n",
    "    Parameters:\n",
    "    - sms_text_df (pd.DataFrame): DataFrame containing 'text_message' and 'label' columns for SMS classification.\n",
    "\n",
    "    Returns:\n",
    "    - text_clf (Pipeline): Fitted pipeline model for SMS classification.\n",
    "\n",
    "    This function takes a DataFrame with 'text_message' and 'label' columns, splits the data into\n",
    "    training and testing sets, builds a pipeline with TF-IDF vectorization and Linear Support Vector\n",
    "    Classification, and fits the model to the training data. \n",
    "    The fitted pipeline is returned to make future predictions.\n",
    "    \"\"\"\n",
    "    # Set the features variable to the text message column.\n",
    "    features = sms_text_df['text_message']\n",
    "    # Set the target variable to the \"label\" column.\n",
    "    target = sms_text_df['label']\n",
    "\n",
    "    # Split data into training and testing and set the test_size = 33%\n",
    "    X_train, X_test, y_train, y_test = train_test_split(features, target, test_size=0.33, random_state=42)\n",
    "\n",
    "    # Build a pipeline to transform the test set to compare to the training set.\n",
    "    text_clf = Pipeline([\n",
    "        ('tfidf', TfidfVectorizer()),\n",
    "        ('clf', LinearSVC()),\n",
    "    ])\n",
    "\n",
    "\n",
    "    # Fit the model to the transformed training data and return model.\n",
    "    text_clf.fit(X_train, y_train)\n",
    "    \n",
    "    return text_clf"
   ]
  },
  {
   "cell_type": "code",
   "execution_count": 4,
   "metadata": {},
   "outputs": [],
   "source": [
    "# Load the dataset into a DataFrame\n",
    "csv_file_path = \"./Resources/SMSSpamCollection.csv\"\n",
    "df = pd.read_csv(csv_file_path)\n"
   ]
  },
  {
   "cell_type": "code",
   "execution_count": 5,
   "metadata": {},
   "outputs": [
    {
     "name": "stderr",
     "output_type": "stream",
     "text": [
      "C:\\Users\\alanz\\anaconda9\\Lib\\site-packages\\sklearn\\svm\\_classes.py:32: FutureWarning: The default value of `dual` will change from `True` to `'auto'` in 1.5. Set the value of `dual` explicitly to suppress the warning.\n",
      "  warnings.warn(\n"
     ]
    }
   ],
   "source": [
    "# Call the sms_classification function with the DataFrame and set the result to the \"text_clf\" variable\n",
    "text_clf = sms_classification(df)"
   ]
  },
  {
   "cell_type": "code",
   "execution_count": 6,
   "metadata": {},
   "outputs": [],
   "source": [
    "# Create a function called `sms_prediction` that takes in the SMS text and predicts the whether the text is \"not spam\" or \"spam\". \n",
    "# The function should return the SMS message, and say whether the text is \"not spam\" or \"spam\".\n",
    "def sms_prediction(text):\n",
    "    \"\"\"\n",
    "    Predict the spam/ham classification of a given text message using a pre-trained model.\n",
    "\n",
    "    Parameters:\n",
    "    - text (str): The text message to be classified.\n",
    "\n",
    "    Returns:\n",
    "    - str: A message indicating whether the text message is classified as spam or not.\n",
    "\n",
    "    This function takes a text message and a pre-trained pipeline model, then predicts the\n",
    "    spam/ham classification of the text. The result is a message stating whether the text is\n",
    "    classified as spam or not.\n",
    "    \"\"\"\n",
    "    # Create a variable that will hold the prediction of a new text.\n",
    "    prediction = text_clf.predict([text])[0]\n",
    "    # Using a conditional if the prediction is \"ham\" return the message:\n",
    "    # f'The text message: \"{text}\", is not spam.' Else, return f'The text message: \"{text}\", is spam.'\n",
    "    if prediction == 'ham':\n",
    "        return f'The text message: \"{text}\", is not spam.'\n",
    "    else:\n",
    "        return f'The text message: \"{text}\", is spam.'"
   ]
  },
  {
   "cell_type": "code",
   "execution_count": 7,
   "metadata": {},
   "outputs": [
    {
     "name": "stdout",
     "output_type": "stream",
     "text": [
      "Running on local URL:  http://127.0.0.1:7862\n",
      "IMPORTANT: You are using gradio version 4.28.3, however version 4.29.0 is available, please upgrade.\n",
      "--------\n",
      "Running on public URL: https://141f9f902dd8358532.gradio.live\n",
      "\n",
      "This share link expires in 72 hours. For free permanent hosting and GPU upgrades, run `gradio deploy` from Terminal to deploy to Spaces (https://huggingface.co/spaces)\n"
     ]
    },
    {
     "data": {
      "text/html": [
       "<div><iframe src=\"https://141f9f902dd8358532.gradio.live\" width=\"100%\" height=\"500\" allow=\"autoplay; camera; microphone; clipboard-read; clipboard-write;\" frameborder=\"0\" allowfullscreen></iframe></div>"
      ],
      "text/plain": [
       "<IPython.core.display.HTML object>"
      ]
     },
     "metadata": {},
     "output_type": "display_data"
    },
    {
     "data": {
      "text/plain": []
     },
     "execution_count": 7,
     "metadata": {},
     "output_type": "execute_result"
    }
   ],
   "source": [
    "# Custom CSS to style the interface\n",
    "custom_css = \"\"\"\n",
    "#app-container {\n",
    "    background-color: #1d1d1d;\n",
    "    color: white;\n",
    "    font-family: Arial, sans-serif;\n",
    "    padding: 20px;\n",
    "    border-radius: 10px;\n",
    "    box-shadow: 0px 0px 10px rgba(0,0,0,0.5);\n",
    "    max-width: 800px;\n",
    "    margin: auto;\n",
    "}\n",
    "#app-title {\n",
    "    text-align: center;\n",
    "    font-size: 24px;\n",
    "    margin-bottom: 10px;\n",
    "}\n",
    "#app-description {\n",
    "    text-align: center;\n",
    "    font-size: 16px;\n",
    "    margin-bottom: 20px;\n",
    "}\n",
    "#input-textbox, #output-textbox {\n",
    "    background-color: #2e2e2e;\n",
    "    color: white;\n",
    "    border: 1px solid #444;\n",
    "    padding: 10px;\n",
    "    border-radius: 5px;\n",
    "    width: 100%;\n",
    "    box-sizing: border-box;\n",
    "    margin-bottom: 10px;\n",
    "}\n",
    "#submit-btn {\n",
    "    background-color: #ff4500;\n",
    "    color: white;\n",
    "    border: none;\n",
    "    padding: 10px 20px;\n",
    "    font-size: 16px;\n",
    "    border-radius: 5px;\n",
    "    cursor: pointer;\n",
    "    width: 100%;\n",
    "    margin-bottom: 10px;\n",
    "}\n",
    "#submit-btn:hover {\n",
    "    background-color: #ff0000;\n",
    "}\n",
    "#clear-btn, #flag-btn {\n",
    "    background-color: #666;\n",
    "    color: white;\n",
    "    border: none;\n",
    "    padding: 10px 20px;\n",
    "    font-size: 16px;\n",
    "    border-radius: 5px;\n",
    "    cursor: pointer;\n",
    "    width: 100%;\n",
    "    margin-bottom: 10px;\n",
    "}\n",
    "#clear-btn:hover, #flag-btn:hover {\n",
    "    background-color: #444;\n",
    "}\n",
    "\"\"\"\n",
    "\n",
    "def clear_inputs():\n",
    "    return \"\", \"\"\n",
    "\n",
    "# Create the Gradio interface using Blocks API\n",
    "with gr.Blocks(css=custom_css) as demo:\n",
    "    with gr.Column(elem_id=\"app-container\"):\n",
    "        gr.Markdown(\"# SMS Spam Classifier\", elem_id=\"app-title\")\n",
    "        gr.Markdown(\"Enter an SMS message to classify it as spam or not spam.\", elem_id=\"app-description\")\n",
    "        \n",
    "        input_text = gr.Textbox(lines=2, placeholder=\"Enter your SMS message here...\", elem_id=\"input-textbox\")\n",
    "        \n",
    "        with gr.Row():\n",
    "            submit_btn = gr.Button(\"Submit\", elem_id=\"submit-btn\")\n",
    "            clear_btn = gr.Button(\"Clear\", elem_id=\"clear-btn\")\n",
    "        \n",
    "        output_text = gr.Textbox(label=\"Our app has determined:\", interactive=False, elem_id=\"output-textbox\")\n",
    "        \n",
    "        with gr.Row():\n",
    "            flag_btn = gr.Button(\"Flag\", elem_id=\"flag-btn\")\n",
    "\n",
    "        submit_btn.click(fn=sms_prediction, inputs=input_text, outputs=output_text)\n",
    "        clear_btn.click(fn=clear_inputs, inputs=[], outputs=[input_text, output_text])\n",
    "\n",
    "# Launch the application\n",
    "demo.launch(share=True)\n"
   ]
  },
  {
   "cell_type": "markdown",
   "metadata": {},
   "source": [
    "## Test the following text messages. \n",
    "\n",
    "---\n",
    "\n",
    "1. You are a lucky winner of $5000!\n",
    "2. You won 2 free tickets to the Super Bowl.\n",
    "3. You won 2 free tickets to the Super Bowl text us to claim your prize.\n",
    "4. Thanks for registering. Text 4343 to receive free updates on medicare."
   ]
  },
  {
   "cell_type": "code",
   "execution_count": null,
   "metadata": {},
   "outputs": [],
   "source": []
  }
 ],
 "metadata": {
  "kernelspec": {
   "display_name": "Python 3 (ipykernel)",
   "language": "python",
   "name": "python3"
  },
  "language_info": {
   "codemirror_mode": {
    "name": "ipython",
    "version": 3
   },
   "file_extension": ".py",
   "mimetype": "text/x-python",
   "name": "python",
   "nbconvert_exporter": "python",
   "pygments_lexer": "ipython3",
   "version": "3.11.5"
  }
 },
 "nbformat": 4,
 "nbformat_minor": 2
}
